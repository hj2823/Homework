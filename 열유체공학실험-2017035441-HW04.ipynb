{
  "nbformat": 4,
  "nbformat_minor": 0,
  "metadata": {
    "colab": {
      "name": "Untitled2.ipynb",
      "provenance": [],
      "include_colab_link": true
    },
    "kernelspec": {
      "name": "python3",
      "display_name": "Python 3"
    }
  },
  "cells": [
    {
      "cell_type": "markdown",
      "metadata": {
        "id": "view-in-github",
        "colab_type": "text"
      },
      "source": [
        "<a href=\"https://colab.research.google.com/github/hj2823/Homework/blob/master/%EC%97%B4%EC%9C%A0%EC%B2%B4%EA%B3%B5%ED%95%99%EC%8B%A4%ED%97%98-2017035441-HW04.ipynb\" target=\"_parent\"><img src=\"https://colab.research.google.com/assets/colab-badge.svg\" alt=\"Open In Colab\"/></a>"
      ]
    },
    {
      "cell_type": "code",
      "metadata": {
        "id": "CYNhmfqNJS4d",
        "colab_type": "code",
        "colab": {
          "base_uri": "https://localhost:8080/",
          "height": 575
        },
        "outputId": "75986791-c065-47ba-c131-ac21a7ba6303"
      },
      "source": [
        "import numpy as np\n",
        "import numba\n",
        "import os\n",
        "os.environ['NUMBAPRO_LIBDEVICE'] = \"/usr/local/cuda-10.1/nvvm/libdevice\"\n",
        "os.environ['NUMBAPRO_NVVM'] = \"/usr/local/cuda-10.1/nvvm/lib64/libnvvm.so\"\n",
        "from numba import vectorize\n",
        "\n",
        "n=int(input())\n",
        "#1 기본 문법을 사용한 방법\n",
        "print('1번')\n",
        "def ex_1(a):\n",
        "  for i in range(1,10):\n",
        "    print(a,'x',i,'=',a*i)\n",
        "%timeit ex_1\n",
        "ex_1(n)\n",
        "print('')\n",
        "#2 numpy를 사용한 방법\n",
        "print('2번')\n",
        "arr=np.arange(1,10)\n",
        "%timeit arr2=arr*n\n",
        "arr2=arr*n\n",
        "print(arr2)\n",
        "print('')\n",
        "#3 numba.jit을 사용한 방법\n",
        "print('3번')\n",
        "def gugudan_function(b):\n",
        "  for i in range(1,10):\n",
        "    print(b,'x',i,'=',b*i)\n",
        "%timeit gugudan_jit_function=numba.jit(gugudan_function)\n",
        "gugudan_jit_function(n)\n",
        "print('')\n"
      ],
      "execution_count": 54,
      "outputs": [
        {
          "output_type": "stream",
          "text": [
            "6\n",
            "1번\n",
            "100000000 loops, best of 3: 18.9 ns per loop\n",
            "6 x 1 = 6\n",
            "6 x 2 = 12\n",
            "6 x 3 = 18\n",
            "6 x 4 = 24\n",
            "6 x 5 = 30\n",
            "6 x 6 = 36\n",
            "6 x 7 = 42\n",
            "6 x 8 = 48\n",
            "6 x 9 = 54\n",
            "\n",
            "2번\n",
            "The slowest run took 28.40 times longer than the fastest. This could mean that an intermediate result is being cached.\n",
            "1000000 loops, best of 3: 875 ns per loop\n",
            "[ 6 12 18 24 30 36 42 48 54]\n",
            "\n",
            "3번\n",
            "The slowest run took 4.35 times longer than the fastest. This could mean that an intermediate result is being cached.\n",
            "10000 loops, best of 3: 58.7 µs per loop\n",
            "6 x 1 = 6\n",
            "6 x 2 = 12\n",
            "6 x 3 = 18\n",
            "6 x 4 = 24\n",
            "6 x 5 = 30\n",
            "6 x 6 = 36\n",
            "6 x 7 = 42\n",
            "6 x 8 = 48\n",
            "6 x 9 = 54\n",
            "\n"
          ],
          "name": "stdout"
        }
      ]
    },
    {
      "cell_type": "markdown",
      "metadata": {
        "id": "BwzoynrRhHAO",
        "colab_type": "text"
      },
      "source": [
        ""
      ]
    },
    {
      "cell_type": "markdown",
      "metadata": {
        "id": "zyC9Xl7VeI0V",
        "colab_type": "text"
      },
      "source": [
        ""
      ]
    }
  ]
}